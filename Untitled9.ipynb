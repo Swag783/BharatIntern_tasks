{
  "nbformat": 4,
  "nbformat_minor": 0,
  "metadata": {
    "colab": {
      "provenance": [],
      "authorship_tag": "ABX9TyMYferjiUEiuGxo+pagTu4k",
      "include_colab_link": true
    },
    "kernelspec": {
      "name": "python3",
      "display_name": "Python 3"
    },
    "language_info": {
      "name": "python"
    }
  },
  "cells": [
    {
      "cell_type": "markdown",
      "metadata": {
        "id": "view-in-github",
        "colab_type": "text"
      },
      "source": [
        "<a href=\"https://colab.research.google.com/github/Swag783/BharatIntern_tasks/blob/main/Untitled9.ipynb\" target=\"_parent\"><img src=\"https://colab.research.google.com/assets/colab-badge.svg\" alt=\"Open In Colab\"/></a>"
      ]
    },
    {
      "cell_type": "markdown",
      "source": [
        "Iris flower classification"
      ],
      "metadata": {
        "id": "NwizOIa3OkNR"
      }
    },
    {
      "cell_type": "code",
      "source": [
        "from sklearn import datasets\n",
        "from sklearn.model_selection import train_test_split\n",
        "from sklearn import svm\n",
        "from sklearn.metrics import accuracy_score\n",
        "import numpy as np\n",
        "import pandas as pd\n"
      ],
      "metadata": {
        "id": "eqCMqaTLO5Ta"
      },
      "execution_count": null,
      "outputs": []
    },
    {
      "cell_type": "code",
      "source": [
        "iris=datasets.load_iris()\n",
        "X=iris.data\n",
        "y=iris.target\n",
        "print(X.shape)\n",
        "print(y.shape)"
      ],
      "metadata": {
        "colab": {
          "base_uri": "https://localhost:8080/"
        },
        "id": "-nvPSuIdiOu4",
        "outputId": "1008302f-7345-4edd-9058-35683665506e"
      },
      "execution_count": null,
      "outputs": [
        {
          "output_type": "stream",
          "name": "stdout",
          "text": [
            "(150, 4)\n",
            "(150,)\n"
          ]
        }
      ]
    },
    {
      "cell_type": "code",
      "source": [
        "X_train,X_test,y_train,y_test=train_test_split(X,y,test_size=0.2)\n",
        "print(X_train.shape)\n",
        "print(X_test.shape)\n",
        "print(y_test.shape)\n",
        "print(y_train.shape)\n"
      ],
      "metadata": {
        "colab": {
          "base_uri": "https://localhost:8080/"
        },
        "id": "DQDuTZYjieJ8",
        "outputId": "83950105-bc05-4ce5-b8b0-043a508ff288"
      },
      "execution_count": null,
      "outputs": [
        {
          "output_type": "stream",
          "name": "stdout",
          "text": [
            "(120, 4)\n",
            "(30, 4)\n",
            "(30,)\n",
            "(120,)\n"
          ]
        }
      ]
    },
    {
      "cell_type": "code",
      "source": [
        "model=svm.SVC()\n",
        "model.fit(X_train,y_train)\n",
        "print(model)"
      ],
      "metadata": {
        "id": "V2Qm_oiijLPM",
        "colab": {
          "base_uri": "https://localhost:8080/"
        },
        "outputId": "ce364f52-ba49-408f-d919-8fda2a456148"
      },
      "execution_count": null,
      "outputs": [
        {
          "output_type": "stream",
          "name": "stdout",
          "text": [
            "SVC()\n"
          ]
        }
      ]
    },
    {
      "cell_type": "code",
      "source": [
        "predictions=model.predict(X_test)\n",
        "acc=accuracy_score(y_test,predictions)\n",
        "print(\"prediction:\",predictions)\n",
        "print(\"actual:\",y_test)\n",
        "print(\"a\",acc)"
      ],
      "metadata": {
        "colab": {
          "base_uri": "https://localhost:8080/"
        },
        "id": "DWSXtuJ0jpYU",
        "outputId": "087eef4b-af4a-4b4a-ab90-375e8e23f1a6"
      },
      "execution_count": null,
      "outputs": [
        {
          "output_type": "stream",
          "name": "stdout",
          "text": [
            "prediction: [2 1 2 0 2 1 0 0 0 2 2 2 2 1 0 1 2 2 2 0 1 2 0 1 0 1 0 1 2 0]\n",
            "actual: [1 1 2 0 2 1 0 0 0 2 2 2 2 1 0 1 2 2 2 0 2 2 0 1 0 1 0 1 2 0]\n",
            "a 0.9333333333333333\n"
          ]
        }
      ]
    },
    {
      "cell_type": "code",
      "source": [
        "classes=['Iris setosa','Iris versicolour','Iris virginica']\n",
        "for i in range(len(predictions)):\n",
        "  print(classes[predictions[i]])"
      ],
      "metadata": {
        "id": "Pt-uHc9Hk9nb",
        "colab": {
          "base_uri": "https://localhost:8080/"
        },
        "outputId": "7b8bf892-b702-4c3b-be8d-79c908467197"
      },
      "execution_count": null,
      "outputs": [
        {
          "output_type": "stream",
          "name": "stdout",
          "text": [
            "Iris virginica\n",
            "Iris versicolour\n",
            "Iris virginica\n",
            "Iris setosa\n",
            "Iris virginica\n",
            "Iris versicolour\n",
            "Iris setosa\n",
            "Iris setosa\n",
            "Iris setosa\n",
            "Iris virginica\n",
            "Iris virginica\n",
            "Iris virginica\n",
            "Iris virginica\n",
            "Iris versicolour\n",
            "Iris setosa\n",
            "Iris versicolour\n",
            "Iris virginica\n",
            "Iris virginica\n",
            "Iris virginica\n",
            "Iris setosa\n",
            "Iris versicolour\n",
            "Iris virginica\n",
            "Iris setosa\n",
            "Iris versicolour\n",
            "Iris setosa\n",
            "Iris versicolour\n",
            "Iris setosa\n",
            "Iris versicolour\n",
            "Iris virginica\n",
            "Iris setosa\n"
          ]
        }
      ]
    }
  ]
}